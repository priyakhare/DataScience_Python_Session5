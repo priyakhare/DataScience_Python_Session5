{
 "cells": [
  {
   "cell_type": "code",
   "execution_count": null,
   "metadata": {},
   "outputs": [],
   "source": [
    "#                            Session 5 Assignment\n",
    "\n",
    "#********************************************************************************\n",
    "#     Program 1: To Write a Function to catch errors while computing \n",
    "#                5/0 \n",
    "#********************************************************************************\n",
    "\n",
    "\n",
    "# Function to compute the fraction value in try and catch \n",
    "def computeDiv(n,d):\n",
    "    try:\n",
    "\n",
    "        val =  n/d\n",
    "\n",
    "    except IOError as e :\n",
    "        print(\"Input Output Error Occured %s\" % e)\n",
    "\n",
    "    except Exception as e :\n",
    "        print(\"The  %s  Error occured while dividing %d by %d \" %(e,n,d))\n",
    "    else :\n",
    "        print(\" %d divide by %d gives : %f\" %(n,d,val))\n",
    "        \n",
    "    finally:\n",
    "        print(\"Division possible only if Denominator not zero \")\n",
    "        \n",
    "\n",
    "# Initializing variables \n",
    "a = 5\n",
    "b = 0\n",
    "\n",
    "# Invoking the function and if divisible , then printing  value \n",
    "computeDiv(a,b)\n",
    "\n",
    "#********************************************************************************"
   ]
  },
  {
   "cell_type": "code",
   "execution_count": null,
   "metadata": {},
   "outputs": [],
   "source": [
    "#********************************************************************************\n",
    "#     Program 2: To Write a program to generate Sentences with various combimations \n",
    "#                \n",
    "#********************************************************************************\n",
    "\n",
    "# Declaration of various Subjects, verbs, objects as lists\n",
    "subjects = [\"Americans\",\"Indians\"]\n",
    "verbs = [\"play\",\"watch\"]\n",
    "objects = [\"Baseball\",\"Cricket\"]\n",
    "\n",
    "\n",
    "#Function to generate the sentences based on the lists given as input\n",
    "def genSen(subjects,verbs,objects):\n",
    "    sp = ' '\n",
    "    lst =[]\n",
    "    if(len(subjects) != 0) and (len(verbs) != 0) and (len(objects) != 0 ):\n",
    "        for nation in subjects:\n",
    "            for action in verbs:\n",
    "                for sport in objects:\n",
    "                    print(nation + sp + action + sp + sport, end=\".\\n\")\n",
    "    else:\n",
    "        print(\"List is empty\")\n",
    "            \n",
    "              \n",
    "print(\"The Generated Sentences are :\\n\")\n",
    "print(\"-\"*60)\n",
    "\n",
    "# Calling the Function genSen for Generating Sentences for combinations of lists send as input \n",
    "genSen(subjects,verbs,objects)\n",
    "\n",
    "print(\"-\"*60)\n",
    "\n",
    "\n",
    "#********************************************************************************\n"
   ]
  }
 ],
 "metadata": {
  "kernelspec": {
   "display_name": "Python 3",
   "language": "python",
   "name": "python3"
  },
  "language_info": {
   "codemirror_mode": {
    "name": "ipython",
    "version": 3
   },
   "file_extension": ".py",
   "mimetype": "text/x-python",
   "name": "python",
   "nbconvert_exporter": "python",
   "pygments_lexer": "ipython3",
   "version": "3.6.5"
  }
 },
 "nbformat": 4,
 "nbformat_minor": 2
}
